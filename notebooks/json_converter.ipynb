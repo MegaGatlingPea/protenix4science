{
 "cells": [
  {
   "cell_type": "code",
   "execution_count": 3,
   "metadata": {},
   "outputs": [
    {
     "name": "stdout",
     "output_type": "stream",
     "text": [
      "Successfully converted 1 configurations\n",
      "Output saved to: ./test.json\n"
     ]
    }
   ],
   "source": [
    "import sys\n",
    "sys.path.append('/home/megagatlingpea/workdir/protenix4science')\n",
    "\n",
    "from protenix.data.utils import convert_bb_configs\n",
    "\n",
    "output_json = convert_bb_configs('./../bb_generation_example/pro_dna.json',dump=True,output_path='./test.json')"
   ]
  },
  {
   "cell_type": "code",
   "execution_count": 4,
   "metadata": {},
   "outputs": [
    {
     "data": {
      "text/plain": [
       "[{'sequences': [{'proteinChain': {'sequence': 'GGGSGIVGGGPQLQGGGNIVSGGG',\n",
       "     'count': 1}},\n",
       "   {'dnaSequence': {'sequence': 'CCCCGTACCCTATACCCTACGCCC', 'count': 1}}],\n",
       "  'metadata': [{'fixed_atom': {},\n",
       "    'fixed': ['3-3', 'A155-158', '3-3', 'A159-162', '3-3', 'A163-166', '3-3']},\n",
       "   {'fixed_atom': {'B111': ['N3', 'N4']},\n",
       "    'fixed': ['3-3',\n",
       "     'B101-104',\n",
       "     '3-3',\n",
       "     'B105-108',\n",
       "     '3-3',\n",
       "     'B109-112',\n",
       "     '3-3']}],\n",
       "  'name': '1tgh_pro_dna'}]"
      ]
     },
     "execution_count": 4,
     "metadata": {},
     "output_type": "execute_result"
    }
   ],
   "source": [
    "output_json"
   ]
  }
 ],
 "metadata": {
  "kernelspec": {
   "display_name": "protenix",
   "language": "python",
   "name": "python3"
  },
  "language_info": {
   "codemirror_mode": {
    "name": "ipython",
    "version": 3
   },
   "file_extension": ".py",
   "mimetype": "text/x-python",
   "name": "python",
   "nbconvert_exporter": "python",
   "pygments_lexer": "ipython3",
   "version": "3.10.16"
  }
 },
 "nbformat": 4,
 "nbformat_minor": 2
}
