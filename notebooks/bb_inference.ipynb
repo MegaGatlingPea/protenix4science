{
 "cells": [
  {
   "cell_type": "code",
   "execution_count": 4,
   "metadata": {},
   "outputs": [],
   "source": [
    "import sys\n",
    "sys.path.append('/home/megagatlingpea/workdir/protenix4science')\n",
    "import json\n",
    "import os\n",
    "import numpy as np\n",
    "import biotite.structure as struc\n",
    "from biotite.structure.io import load_structure\n",
    "\n",
    "from protenix.data.constants import mmcif_restype_3to1 as AA_3TO1\n",
    "from protenix.data.constants import PROTEIN_BACKBONE_ATOM_NAMES, NA_BACKBONE_ATOM_NAMES, BACKBONE_ATOM_NAMES, PROTEIN_REP_RESIDUE, RNA_REP_RESIDUE, DNA_REP_RESIDUE\n",
    "\n",
    "from protenix.data.utils import convert_bb_configs,convert_metadata"
   ]
  },
  {
   "cell_type": "code",
   "execution_count": 5,
   "metadata": {},
   "outputs": [],
   "source": [
    "output_json = convert_bb_configs('./../examples/bb_generation.json',dump=False)\n",
    "#metadata = convert_metadata(output_json.pop('metadata'))"
   ]
  },
  {
   "cell_type": "code",
   "execution_count": 6,
   "metadata": {},
   "outputs": [
    {
     "data": {
      "text/plain": [
       "[{'sequences': [{'proteinChain': {'sequence': 'GGGGGGGGGGGGGGGGGGGGGGGGGGGGGGGGGGGGGGGGGGGGGGGEGGGGGGGGGGGGGGGGGGGGGGGGGGGGGGGGGGGGGGGGGGGGGGGGGGGGGGGGHGGGGGGGGGGGGGGGGGGGGGGGGGGKGGGGGGGGGGGGGGGGGGGGGGGGGGGGGGGGGGGGGGGGGGGGGGGG',\n",
       "     'count': 1}},\n",
       "   {'proteinChain': {'sequence': 'GGGGGGGGGGGGGGGGGGGGGGGGGGGGGGGGGGGGGGGGGGGGGGGEMALLDGQPRSADGGGGGGGGGGGGGGGGGGGGGGGGGGGGGGGGGGGGGGGGGGGGGGGGGGGGGGGGHGSEMGGGGGGGGGGGGGGGGGGGGGGGGGGKGGGGGGGGGGGGGGGGGGGGGGGGGGGGGGGGGGGGGGGGGGGGGGGG',\n",
       "     'count': 1}}],\n",
       "  'metadata': [{'fixed_atom': {'A86': ['O', 'C', 'CA'],\n",
       "     'A168': ['NE2', 'CD2', 'CE1', 'CG', 'ND1'],\n",
       "     'A197': ['NZ', 'CE', 'CD']},\n",
       "    'fixed': ['47-47',\n",
       "     'A86-86',\n",
       "     '56-56',\n",
       "     'A168-168',\n",
       "     '26-26',\n",
       "     'A197-197',\n",
       "     '48-48']},\n",
       "   {'fixed_atom': {},\n",
       "    'fixed': ['47-47',\n",
       "     'B86-98',\n",
       "     '56-56',\n",
       "     'B168-172',\n",
       "     '26-26',\n",
       "     'B197-197',\n",
       "     '48-48']}],\n",
       "  'name': '7pzb'}]"
      ]
     },
     "execution_count": 6,
     "metadata": {},
     "output_type": "execute_result"
    }
   ],
   "source": [
    "output_json"
   ]
  }
 ],
 "metadata": {
  "kernelspec": {
   "display_name": "protenix",
   "language": "python",
   "name": "python3"
  },
  "language_info": {
   "codemirror_mode": {
    "name": "ipython",
    "version": 3
   },
   "file_extension": ".py",
   "mimetype": "text/x-python",
   "name": "python",
   "nbconvert_exporter": "python",
   "pygments_lexer": "ipython3",
   "version": "3.10.16"
  }
 },
 "nbformat": 4,
 "nbformat_minor": 2
}
