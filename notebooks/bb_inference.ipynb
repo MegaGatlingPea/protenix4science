{
 "cells": [
  {
   "cell_type": "code",
   "execution_count": null,
   "metadata": {},
   "outputs": [
    {
     "ename": "",
     "evalue": "",
     "output_type": "error",
     "traceback": [
      "\u001b[1;31mRunning cells with 'protenix (Python 3.10.16)' requires the ipykernel package.\n",
      "\u001b[1;31mRun the following command to install 'ipykernel' into the Python environment. \n",
      "\u001b[1;31mCommand: 'conda install -n protenix ipykernel --update-deps --force-reinstall'"
     ]
    }
   ],
   "source": [
    "# bbconfig2original config\n",
    "import numpy as np\n",
    "import json\n",
    "import os\n",
    "from typing import Dict, List, Tuple, Any\n",
    "from biotite.structure.io import load_structure\n",
    "from biotite.structure import AtomArray\n",
    "import biotite.structure as struc\n",
    "\n",
    "from protenix.data.constants import mmcif_restype_3to1 as AA_3TO1\n",
    "PROTEIN_REP_RESIDUE = 'GLY'\n",
    "\n",
    "output_json = []\n",
    "with open('./../examples/bb_generation.json', 'r') as f:\n",
    "    bb_configs = json.load(f)\n",
    "    for i in range(len(bb_configs)):\n",
    "        bb_config = bb_configs[i]\n",
    "        bb_config['fixed'] = bb_config['fixed'].split(',')\n",
    "        bb_config['fixed_type'] = bb_config['fixed_type'].split(', ')\n",
    "        for fixed_residue, bb_atom in bb_config['fixed_atom'].items():\n",
    "            bb_config['fixed_atom'][fixed_residue] = bb_atom.split(',')\n",
    "        assert len(bb_config['fixed']) == len(bb_config['fixed_type'])\n",
    "        stack = load_structure(bb_config['pdb'])\n",
    "\n",
    "        infer_seq = []\n",
    "        output_dict = {'sequences':[],'name':''}\n",
    "\n",
    "        for j in range(len(bb_config['fixed'])):\n",
    "            if bb_config['fixed_type'][j] == 'proteinbb':\n",
    "                min_len,max_len = map(int, bb_config['fixed'][j].split('-'))\n",
    "                assert min_len <= max_len\n",
    "                # randomly select a length between min_len and max_len\n",
    "                length = np.random.randint(min_len, max_len + 1)\n",
    "                for _ in range(length):\n",
    "                    infer_seq.append(AA_3TO1[PROTEIN_REP_RESIDUE])\n",
    "            elif bb_config['fixed_type'][j] == 'proteinChain':\n",
    "                chain_id = bb_config['fixed'][j].split('-')[0][0]\n",
    "                res_id = int(bb_config['fixed'][j].split('-')[1])\n",
    "                mask = (stack.chain_id == chain_id) & (stack.res_id == res_id)\n",
    "                res_name = stack[np.where(mask)[0][0]].res_name\n",
    "                infer_seq.append(AA_3TO1[res_name])\n",
    "        infer_seq = ''.join(infer_seq)\n",
    "        output_dict['name'] = bb_config['name']\n",
    "        output_dict['sequences'].append({\n",
    "            \"proteinChain\":{\n",
    "                \"sequence\":infer_seq,\n",
    "                \"count\": 1\n",
    "            }\n",
    "        })\n",
    "        output_json.append(output_dict)\n",
    "\n",
    "output_path = './../examples/bb_generation_converted.json'\n",
    "with open(output_path, 'w') as f:\n",
    "    json.dump(output_json, f, indent=2)\n",
    "\n",
    "print(f\"Successfully converted {len(output_json)} configurations\")\n",
    "print(f\"Output saved to: {output_path}\")\n",
    "\n",
    "if output_json:\n",
    "    print(\"\\nExample converted config:\")\n",
    "    print(json.dumps(output_json[0], indent=2))"
   ]
  },
  {
   "cell_type": "code",
   "execution_count": null,
   "metadata": {},
   "outputs": [],
   "source": [
    "with open('./../examples/bb_generation_converted.json', \"r\") as f:\n",
    "    inputs = json.load(f)\n",
    "inputs"
   ]
  },
  {
   "cell_type": "code",
   "execution_count": null,
   "metadata": {},
   "outputs": [],
   "source": [
    "output_json"
   ]
  }
 ],
 "metadata": {
  "kernelspec": {
   "display_name": "protenix",
   "language": "python",
   "name": "python3"
  },
  "language_info": {
   "codemirror_mode": {
    "name": "ipython",
    "version": 3
   },
   "file_extension": ".py",
   "mimetype": "text/x-python",
   "name": "python",
   "nbconvert_exporter": "python",
   "pygments_lexer": "ipython3",
   "version": "3.10.16"
  }
 },
 "nbformat": 4,
 "nbformat_minor": 2
}
