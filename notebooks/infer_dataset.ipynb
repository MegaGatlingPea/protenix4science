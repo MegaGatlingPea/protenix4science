{
 "cells": [
  {
   "cell_type": "code",
   "execution_count": 9,
   "metadata": {},
   "outputs": [
    {
     "name": "stdout",
     "output_type": "stream",
     "text": [
      "data_condition is True, use_msa is set to False\n"
     ]
    }
   ],
   "source": [
    "import sys\n",
    "sys.path.append('/home/megagatlingpea/workdir/protenix4science')\n",
    "\n",
    "from protenix.data.infer_data_pipeline import InferenceDataset\n",
    "from protenix.data.json_to_feature import SampleDictToFeatures\n",
    "\n",
    "struc_predict = InferenceDataset(\n",
    "    input_json_path='./../examples/bb_generation_converted.json',\n",
    "    dump_dir='./',\n",
    "    use_msa=False,\n",
    "    data_condition=False\n",
    ")\n",
    "\n",
    "bb_inference = InferenceDataset(\n",
    "    input_json_path='./../examples/bb_generation.json',\n",
    "    dump_dir='./',\n",
    "    use_msa=True,\n",
    "    data_condition='all'\n",
    ")\n",
    "\n",
    "struc_sample_dict = struc_predict.inputs[0]\n",
    "bb_sample_dict = bb_inference.inputs[0]"
   ]
  },
  {
   "cell_type": "code",
   "execution_count": 10,
   "metadata": {},
   "outputs": [
    {
     "name": "stderr",
     "output_type": "stream",
     "text": [
      "2025-05-28 16:44:46,102 [/home/megagatlingpea/workdir/protenix4science/protenix/data/infer_data_pipeline.py:229] INFO protenix.data.infer_data_pipeline: Featurizing 7pzb...\n"
     ]
    },
    {
     "name": "stdout",
     "output_type": "stream",
     "text": [
      "No charge attribute in the atom array\n"
     ]
    }
   ],
   "source": [
    "struc_data, struc_atom_array, struc_error_message = struc_predict.__getitem__(0)"
   ]
  },
  {
   "cell_type": "code",
   "execution_count": 11,
   "metadata": {},
   "outputs": [
    {
     "name": "stderr",
     "output_type": "stream",
     "text": [
      "2025-05-28 16:44:46,818 [/home/megagatlingpea/workdir/protenix4science/protenix/data/infer_data_pipeline.py:229] INFO protenix.data.infer_data_pipeline: Featurizing 7pzb...\n"
     ]
    },
    {
     "name": "stdout",
     "output_type": "stream",
     "text": [
      "No charge attribute in the atom array\n"
     ]
    }
   ],
   "source": [
    "bb_data, bb_atom_array, bb_error_message = bb_inference.__getitem__(0)"
   ]
  },
  {
   "cell_type": "code",
   "execution_count": 13,
   "metadata": {},
   "outputs": [
    {
     "data": {
      "text/plain": [
       "72"
      ]
     },
     "execution_count": 13,
     "metadata": {},
     "output_type": "execute_result"
    }
   ],
   "source": [
    "bb_atom_array.condition_token_mask.sum()"
   ]
  },
  {
   "cell_type": "code",
   "execution_count": 14,
   "metadata": {},
   "outputs": [
    {
     "data": {
      "text/plain": [
       "1440"
      ]
     },
     "execution_count": 14,
     "metadata": {},
     "output_type": "execute_result"
    }
   ],
   "source": [
    "bb_atom_array.condition_atom_mask.sum()"
   ]
  },
  {
   "cell_type": "code",
   "execution_count": null,
   "metadata": {},
   "outputs": [],
   "source": []
  }
 ],
 "metadata": {
  "kernelspec": {
   "display_name": "protenix",
   "language": "python",
   "name": "python3"
  },
  "language_info": {
   "codemirror_mode": {
    "name": "ipython",
    "version": 3
   },
   "file_extension": ".py",
   "mimetype": "text/x-python",
   "name": "python",
   "nbconvert_exporter": "python",
   "pygments_lexer": "ipython3",
   "version": "3.10.16"
  }
 },
 "nbformat": 4,
 "nbformat_minor": 2
}
